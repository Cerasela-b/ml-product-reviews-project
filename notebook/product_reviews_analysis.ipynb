{
  "nbformat": 4,
  "nbformat_minor": 0,
  "metadata": {
    "colab": {
      "provenance": [],
      "authorship_tag": "ABX9TyP9HYIp9rJCRniXf1tFc6Ge",
      "include_colab_link": true
    },
    "kernelspec": {
      "name": "python3",
      "display_name": "Python 3"
    },
    "language_info": {
      "name": "python"
    }
  },
  "cells": [
    {
      "cell_type": "markdown",
      "metadata": {
        "id": "view-in-github",
        "colab_type": "text"
      },
      "source": [
        "<a href=\"https://colab.research.google.com/github/Cerasela-b/ml-product-reviews-project/blob/main/notebook/product_reviews_analysis.ipynb\" target=\"_parent\"><img src=\"https://colab.research.google.com/assets/colab-badge.svg\" alt=\"Open In Colab\"/></a>"
      ]
    },
    {
      "cell_type": "markdown",
      "source": [
        "## Loading and inspecting the dataset\n",
        "\n",
        "Before diving into analysis, we first need to load the dataset and take a look at its structure.\n",
        "\n",
        "In this step we will:\n",
        "- Load the CSV file from Github\n",
        "- Check how many rows and columns we have\n",
        "- Display the first dew rows\n",
        "- Review data types and basic metadata for each column"
      ],
      "metadata": {
        "id": "Z5qBdPXk38hz"
      }
    },
    {
      "cell_type": "code",
      "execution_count": 4,
      "metadata": {
        "id": "VB3k11ks30Yb",
        "colab": {
          "base_uri": "https://localhost:8080/"
        },
        "outputId": "b329ee47-1b9e-4b73-d6ff-3ea53bcab97c"
      },
      "outputs": [
        {
          "output_type": "stream",
          "name": "stdout",
          "text": [
            "Dataset shape (rows, columns): (171380, 6)\n",
            "\n",
            "First 5 rows:\n",
            "                            review_uuid  \\\n",
            "0  31b07b9a-4567-4db1-81f6-1bcef33b3e7b   \n",
            "1  1cb2b4b5-9805-4c2d-9393-6b1382cb7c53   \n",
            "2  f64165f0-29a2-4cfb-8b15-13c0c893e54d   \n",
            "3  e442e083-a343-4052-b015-41e531e52d3e   \n",
            "4  f4abefb8-22f0-4672-af73-2aa2954b24e0   \n",
            "\n",
            "                                        product_name product_price  \\\n",
            "0  Candes 12 L Room/Personal Air Cooler??????(Whi...         48.18   \n",
            "1  Candes 12 L Room/Personal Air Cooler??????(Whi...         48.18   \n",
            "2  Candes 12 L Room/Personal Air Cooler??????(Whi...         48.18   \n",
            "3  Candes 12 L Room/Personal Air Cooler??????(Whi...         48.18   \n",
            "4  Candes 12 L Room/Personal Air Cooler??????(Whi...         48.18   \n",
            "\n",
            "      review_title                                        review_text  \\\n",
            "0           Super!  great cooler excellent air flow and for this p...   \n",
            "1          Awesome              best budget 2 fit cooler nice cooling   \n",
            "2             Fair  the quality is good but the power of air is de...   \n",
            "3  Useless product                  very bad product its a only a fan   \n",
            "4             Fair                                      ok ok product   \n",
            "\n",
            "  sentiment  \n",
            "0  positive  \n",
            "1  positive  \n",
            "2  positive  \n",
            "3  negative  \n",
            "4   Neutral  \n",
            "\n",
            "Dataset info:\n",
            "<class 'pandas.core.frame.DataFrame'>\n",
            "RangeIndex: 171380 entries, 0 to 171379\n",
            "Data columns (total 6 columns):\n",
            " #   Column         Non-Null Count   Dtype \n",
            "---  ------         --------------   ----- \n",
            " 0   review_uuid    171380 non-null  object\n",
            " 1   product_name   171380 non-null  object\n",
            " 2   product_price  170954 non-null  object\n",
            " 3   review_title   171379 non-null  object\n",
            " 4   review_text    171379 non-null  object\n",
            " 5   sentiment      166369 non-null  object\n",
            "dtypes: object(6)\n",
            "memory usage: 7.8+ MB\n"
          ]
        }
      ],
      "source": [
        "import pandas as pd\n",
        "\n",
        "# load dataset from GitHub\n",
        "url = \"https://raw.githubusercontent.com/Cerasela-b/ml-product-reviews-project/main/data/product_reviews_full.csv\"\n",
        "df = pd.read_csv(url)\n",
        "\n",
        "# Print shape (number of rows and columns)\n",
        "print(\"Dataset shape (rows, columns):\", df.shape)\n",
        "\n",
        "print(\"\\nFirst 5 rows:\")\n",
        "print(df.head())\n",
        "\n",
        "# Show column data types and non-null counts\n",
        "print(\"\\nDataset info:\")\n",
        "df.info()\n"
      ]
    }
  ]
}