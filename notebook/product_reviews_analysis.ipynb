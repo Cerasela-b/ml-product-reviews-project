{
  "nbformat": 4,
  "nbformat_minor": 0,
  "metadata": {
    "colab": {
      "provenance": [],
      "authorship_tag": "ABX9TyOq3kW/gevbMILX5FcomZ7Q",
      "include_colab_link": true
    },
    "kernelspec": {
      "name": "python3",
      "display_name": "Python 3"
    },
    "language_info": {
      "name": "python"
    }
  },
  "cells": [
    {
      "cell_type": "markdown",
      "metadata": {
        "id": "view-in-github",
        "colab_type": "text"
      },
      "source": [
        "<a href=\"https://colab.research.google.com/github/Cerasela-b/ml-product-reviews-project/blob/main/notebook/product_reviews_analysis.ipynb\" target=\"_parent\"><img src=\"https://colab.research.google.com/assets/colab-badge.svg\" alt=\"Open In Colab\"/></a>"
      ]
    },
    {
      "cell_type": "markdown",
      "source": [
        "## Loading and inspecting the dataset\n",
        "\n",
        "Before diving into analysis, we first need to load the dataset and take a look at its structure.\n",
        "\n",
        "In this step we will:\n",
        "- Load the CSV file from Github\n",
        "- Check how many rows and columns we have\n",
        "- Display the first dew rows\n",
        "- Review data types and basic metadata for each column"
      ],
      "metadata": {
        "id": "Z5qBdPXk38hz"
      }
    },
    {
      "cell_type": "code",
      "execution_count": 1,
      "metadata": {
        "id": "VB3k11ks30Yb",
        "colab": {
          "base_uri": "https://localhost:8080/"
        },
        "outputId": "85172577-3328-4ea4-9c20-f2607130746f"
      },
      "outputs": [
        {
          "output_type": "stream",
          "name": "stdout",
          "text": [
            "Dataset shape (rows, columns): (171380, 6)\n",
            "\n",
            "First 5 rows:\n",
            "                            review_uuid  \\\n",
            "0  31b07b9a-4567-4db1-81f6-1bcef33b3e7b   \n",
            "1  1cb2b4b5-9805-4c2d-9393-6b1382cb7c53   \n",
            "2  f64165f0-29a2-4cfb-8b15-13c0c893e54d   \n",
            "3  e442e083-a343-4052-b015-41e531e52d3e   \n",
            "4  f4abefb8-22f0-4672-af73-2aa2954b24e0   \n",
            "\n",
            "                                        product_name product_price  \\\n",
            "0  Candes 12 L Room/Personal Air Cooler??????(Whi...         48.18   \n",
            "1  Candes 12 L Room/Personal Air Cooler??????(Whi...         48.18   \n",
            "2  Candes 12 L Room/Personal Air Cooler??????(Whi...         48.18   \n",
            "3  Candes 12 L Room/Personal Air Cooler??????(Whi...         48.18   \n",
            "4  Candes 12 L Room/Personal Air Cooler??????(Whi...         48.18   \n",
            "\n",
            "      review_title                                        review_text  \\\n",
            "0           Super!  great cooler excellent air flow and for this p...   \n",
            "1          Awesome              best budget 2 fit cooler nice cooling   \n",
            "2             Fair  the quality is good but the power of air is de...   \n",
            "3  Useless product                  very bad product its a only a fan   \n",
            "4             Fair                                      ok ok product   \n",
            "\n",
            "  sentiment  \n",
            "0  positive  \n",
            "1  positive  \n",
            "2  positive  \n",
            "3  negative  \n",
            "4   Neutral  \n",
            "\n",
            "Dataset info:\n",
            "<class 'pandas.core.frame.DataFrame'>\n",
            "RangeIndex: 171380 entries, 0 to 171379\n",
            "Data columns (total 6 columns):\n",
            " #   Column         Non-Null Count   Dtype \n",
            "---  ------         --------------   ----- \n",
            " 0   review_uuid    171380 non-null  object\n",
            " 1   product_name   171380 non-null  object\n",
            " 2   product_price  170954 non-null  object\n",
            " 3   review_title   171379 non-null  object\n",
            " 4   review_text    171379 non-null  object\n",
            " 5   sentiment      166369 non-null  object\n",
            "dtypes: object(6)\n",
            "memory usage: 7.8+ MB\n"
          ]
        }
      ],
      "source": [
        "import pandas as pd\n",
        "\n",
        "# load dataset from GitHub\n",
        "url = \"https://raw.githubusercontent.com/Cerasela-b/ml-product-reviews-project/main/data/product_reviews_full.csv\"\n",
        "df = pd.read_csv(url)\n",
        "\n",
        "# Print shape (number of rows and columns)\n",
        "print(\"Dataset shape (rows, columns):\", df.shape)\n",
        "\n",
        "print(\"\\nFirst 5 rows:\")\n",
        "print(df.head())\n",
        "\n",
        "# Show column data types and non-null counts\n",
        "print(\"\\nDataset info:\")\n",
        "df.info()\n"
      ]
    },
    {
      "cell_type": "markdown",
      "source": [
        "## Checking for missing columns\n",
        "\n",
        "Missing data can cause problems during model training or analysis.\n",
        "Here, we will:\n",
        "- Count the number if missing (NaN) values per column\n",
        "- Visualize missing values using a heatmap\n",
        "\n",
        "Rgis will help us identify any columns that require cleaning or imputation."
      ],
      "metadata": {
        "id": "Gga9jF9dDY47"
      }
    },
    {
      "cell_type": "code",
      "source": [
        "# Count missing values per column\n",
        "print(\"Missing values per column:\")\n",
        "print(df.isna().sum())"
      ],
      "metadata": {
        "colab": {
          "base_uri": "https://localhost:8080/"
        },
        "id": "6zrmudjEDc-E",
        "outputId": "40500fab-e279-4d0d-a06c-44247c71cae1"
      },
      "execution_count": 2,
      "outputs": [
        {
          "output_type": "stream",
          "name": "stdout",
          "text": [
            "Missing values per column:\n",
            "review_uuid         0\n",
            "product_name        0\n",
            "product_price     426\n",
            "review_title        1\n",
            "review_text         1\n",
            "sentiment        5011\n",
            "dtype: int64\n"
          ]
        }
      ]
    },
    {
      "cell_type": "code",
      "source": [
        "# Visualize missing data with seaborn heatmap\n",
        "import seaborn as sns\n",
        "import matplotlib.pyplot as plt\n",
        "\n",
        "plt.figure(figsize=(10, 5))\n",
        "sns.heatmap(df.isna(), cbar=False, cmap =\"YlOrRd\")\n",
        "plt.title(\"Missing Values Heatmap\")\n",
        "plt.show()"
      ],
      "metadata": {
        "colab": {
          "base_uri": "https://localhost:8080/",
          "height": 468
        },
        "id": "6owSnUFhD2Yp",
        "outputId": "331c8da1-a668-4114-a5dd-65067f1a4ed2"
      },
      "execution_count": 3,
      "outputs": [
        {
          "output_type": "display_data",
          "data": {
            "text/plain": [
              "<Figure size 1000x500 with 1 Axes>"
            ],
            "image/png": "[encoded data removed]"
          },
          "metadata": {}
        }
      ]
    },
    {
      "cell_type": "markdown",
      "source": [
        "## Sentiment analysis\n",
        "\n",
        "Let's check how many reviews are labled as positive vs negative vs neutral.\n",
        "\n",
        "This help us:\n",
        "- Understand the balance between classes\n",
        "- Detect id the dataset is skewed"
      ],
      "metadata": {
        "id": "-ZxeBjbjGvyJ"
      }
    },
    {
      "cell_type": "code",
      "source": [
        "# Count occurrences of each sentiment label\n",
        "sentiment_counts = df['sentiment'].value_counts()\n",
        "\n",
        "# Print counts\n",
        "print(\"Sentiment distribution (counts):\")\n",
        "print(sentiment_counts)"
      ],
      "metadata": {
        "colab": {
          "base_uri": "https://localhost:8080/"
        },
        "id": "zJAftlv3GwVD",
        "outputId": "be6e6eea-c2d7-43c7-d23d-5d57320f3237"
      },
      "execution_count": 4,
      "outputs": [
        {
          "output_type": "stream",
          "name": "stdout",
          "text": [
            "Sentiment distribution (counts):\n",
            "sentiment\n",
            "positive    85537\n",
            "negative    32369\n",
            "Positive    22361\n",
            "Negative    12392\n",
            "neutral     10508\n",
            "Neutral      3202\n",
            "Name: count, dtype: int64\n"
          ]
        }
      ]
    },
    {
      "cell_type": "code",
      "source": [
        "# Plot sentiment distribution\n",
        "import seaborn as sns\n",
        "import matplotlib.pyplot as plt\n",
        "\n",
        "plt.figure(figsize=(6, 4))\n",
        "plt.bar(sentiment_counts.index, sentiment_counts.values, color=['skyblue', 'salmon'])\n",
        "plt.title(\"Sentiment Distribution\")\n",
        "plt.xlabel(\"Sentiment\")\n",
        "plt.ylabel(\"Number of Reviews\")\n",
        "plt.show()"
      ],
      "metadata": {
        "colab": {
          "base_uri": "https://localhost:8080/",
          "height": 410
        },
        "id": "VygDaZBZG_-7",
        "outputId": "ac25d8aa-0e53-47aa-e467-4f11f916eb53"
      },
      "execution_count": 5,
      "outputs": [
        {
          "output_type": "display_data",
          "data": {
            "text/plain": [
              "<Figure size 600x400 with 1 Axes>"
            ],
            "image/png": "[encoded data removed]"
          },
          "metadata": {}
        }
      ]
    },
    {
      "cell_type": "markdown",
      "source": [
        "## Exploring the 'product_price' column\n",
        "\n",
        "Before we can use price data in any meaningful way, we need to understand how it is stored and formatted.\n",
        "\n",
        "In this section, we will:\n",
        "- Check the data type of the `product_price` column,\n",
        "- Preview a few sample values,\n",
        "- Identify the most common price entries,\n",
        "- Detect non-numerci or problematic values such as `\"Free\"`, `\"N/A\"`, or corrupted symbols.\n",
        "\n",
        "This is an important part of data cleaning. Even if a value*Looks* like a number, it ay still be stored as a string and cause problems during numeric analysis or modeling.\n",
        "\n",
        "\n"
      ],
      "metadata": {
        "id": "ZmqTEYSCKcPN"
      }
    },
    {
      "cell_type": "code",
      "source": [
        "# 1. Check the data type of the 'product_price' column\n",
        "print(\"Data type of product_price column:\", df['product_price'].dtype)\n",
        "\n",
        "# 2. Display the first 10 values from the column\n",
        "print(\"\\nFirst 10 values in product_price column:\")\n",
        "print(df['product_price'].head(10))\n",
        "\n",
        "# 3. Show the 20 most frequent values in the column\n",
        "print(\"\\nTop 20 most frequent values in product_price column:\")\n",
        "print(df['product_price'].value_counts().head(20))\n",
        "\n",
        "# 4. Check for known non-numeric text values\n",
        "problematic_values = ['Free', 'Not Available', 'N/A', 'None', '-', 'free', 'unknown', 'Unavailable']\n",
        "\n",
        "# Identify rows containing these specific non-numeric values\n",
        "mask_problematic = df['product_price'].astype(str).str.strip().isin(problematic_values)\n",
        "df_problematic = df[mask_problematic]\n",
        "print(f\"\\nFound {len(df_problematic)} rows with problematic textual values:\")\n",
        "display(df_problematic[['product_price']].drop_duplicates())\n",
        "\n",
        "# 5. Find and display some of the non-numeric values\n",
        "price_clean = df['product_price'].astype(str).str.strip()\n",
        "price_numeric = pd.to_numeric(price_clean, errors='coerce')\n",
        "\n",
        "invalid_prices = df[price_numeric.isna()]\n",
        "print(\"Number of non-numeric prices:\", len(invalid_prices))\n",
        "display(invalid_prices[['product_price']].drop_duplicates().head(20))\n"
      ],
      "metadata": {
        "colab": {
          "base_uri": "https://localhost:8080/",
          "height": 1000
        },
        "id": "la8vaMGeKkjF",
        "outputId": "66911169-1f8c-42bb-87d0-44620112d697"
      },
      "execution_count": 6,
      "outputs": [
        {
          "output_type": "stream",
          "name": "stdout",
          "text": [
            "Data type of product_price column: object\n",
            "\n",
            "First 10 values in product_price column:\n",
            "0    48.18\n",
            "1    48.18\n",
            "2    48.18\n",
            "3    48.18\n",
            "4    48.18\n",
            "5    48.18\n",
            "6    48.18\n",
            "7    48.18\n",
            "8    48.18\n",
            "9    48.18\n",
            "Name: product_price, dtype: object\n",
            "\n",
            "Top 20 most frequent values in product_price column:\n",
            "product_price\n",
            "2.63        4483\n",
            "5.41        2648\n",
            "$5.41       2577\n",
            "19.27       2575\n",
            "$2.63       2499\n",
            "42.16       2242\n",
            "168.66      2175\n",
            "8.42        2103\n",
            "6.01        1857\n",
            "373.48      1824\n",
            "3.6         1778\n",
            "18.06       1710\n",
            "$19.27      1671\n",
            "$3.60       1608\n",
            "96.37       1496\n",
            "$168.66     1461\n",
            "3.0         1395\n",
            "$6.01       1359\n",
            "3.24        1333\n",
            "2.4         1321\n",
            "Name: count, dtype: int64\n",
            "\n",
            "Found 0 rows with problematic textual values:\n"
          ]
        },
        {
          "output_type": "display_data",
          "data": {
            "text/plain": [
              "Empty DataFrame\n",
              "Columns: [product_price]\n",
              "Index: []"
            ],
            "text/html": [
              "\n",
              "  <div id=\"df-8f3d84a6-5ed0-4976-b2ea-436c709571d9\" class=\"colab-df-container\">\n",
              "    <div>\n",
              "<style scoped>\n",
              "    .dataframe tbody tr th:only-of-type {\n",
              "        vertical-align: middle;\n",
              "    }\n",
              "\n",
              "    .dataframe tbody tr th {\n",
              "        vertical-align: top;\n",
              "    }\n",
              "\n",
              "    .dataframe thead th {\n",
              "        text-align: right;\n",
              "    }\n",
              "</style>\n",
              "<table border=\"1\" class=\"dataframe\">\n",
              "  <thead>\n",
              "    <tr style=\"text-align: right;\">\n",
              "      <th></th>\n",
              "      <th>product_price</th>\n",
              "    </tr>\n",
              "  </thead>\n",
              "  <tbody>\n",
              "  </tbody>\n",
              "</table>\n",
              "</div>\n",
              "    <div class=\"colab-df-buttons\">\n",
              "\n",
              "  <div class=\"colab-df-container\">\n",
              "    <button class=\"colab-df-convert\" onclick=\"convertToInteractive('df-8f3d84a6-5ed0-4976-b2ea-436c709571d9')\"\n",
              "            title=\"Convert this dataframe to an interactive table.\"\n",
              "            style=\"display:none;\">\n",
              "\n",
              "  <svg xmlns=\"http://www.w3.org/2000/svg\" height=\"24px\" viewBox=\"0 -960 960 960\">\n",
              "    <path d=\"M120-120v-720h720v720H120Zm60-500h600v-160H180v160Zm220 220h160v-160H400v160Zm0 220h160v-160H400v160ZM180-400h160v-160H180v160Zm440 0h160v-160H620v160ZM180-180h160v-160H180v160Zm440 0h160v-160H620v160Z\"/>\n",
              "  </svg>\n",
              "    </button>\n",
              "\n",
              "  <style>\n",
              "    .colab-df-container {\n",
              "      display:flex;\n",
              "      gap: 12px;\n",
              "    }\n",
              "\n",
              "    .colab-df-convert {\n",
              "      background-color: #E8F0FE;\n",
              "      border: none;\n",
              "      border-radius: 50%;\n",
              "      cursor: pointer;\n",
              "      display: none;\n",
              "      fill: #1967D2;\n",
              "      height: 32px;\n",
              "      padding: 0 0 0 0;\n",
              "      width: 32px;\n",
              "    }\n",
              "\n",
              "    .colab-df-convert:hover {\n",
              "      background-color: #E2EBFA;\n",
              "      box-shadow: 0px 1px 2px rgba(60, 64, 67, 0.3), 0px 1px 3px 1px rgba(60, 64, 67, 0.15);\n",
              "      fill: #174EA6;\n",
              "    }\n",
              "\n",
              "    .colab-df-buttons div {\n",
              "      margin-bottom: 4px;\n",
              "    }\n",
              "\n",
              "    [theme=dark] .colab-df-convert {\n",
              "      background-color: #3B4455;\n",
              "      fill: #D2E3FC;\n",
              "    }\n",
              "\n",
              "    [theme=dark] .colab-df-convert:hover {\n",
              "      background-color: #434B5C;\n",
              "      box-shadow: 0px 1px 3px 1px rgba(0, 0, 0, 0.15);\n",
              "      filter: drop-shadow(0px 1px 2px rgba(0, 0, 0, 0.3));\n",
              "      fill: #FFFFFF;\n",
              "    }\n",
              "  </style>\n",
              "\n",
              "    <script>\n",
              "      const buttonEl =\n",
              "        document.querySelector('#df-8f3d84a6-5ed0-4976-b2ea-436c709571d9 button.colab-df-convert');\n",
              "      buttonEl.style.display =\n",
              "        google.colab.kernel.accessAllowed ? 'block' : 'none';\n",
              "\n",
              "      async function convertToInteractive(key) {\n",
              "        const element = document.querySelector('#df-8f3d84a6-5ed0-4976-b2ea-436c709571d9');\n",
              "        const dataTable =\n",
              "          await google.colab.kernel.invokeFunction('convertToInteractive',\n",
              "                                                    [key], {});\n",
              "        if (!dataTable) return;\n",
              "\n",
              "        const docLinkHtml = 'Like what you see? Visit the ' +\n",
              "          '<a target=\"_blank\" href=https://colab.research.google.com/notebooks/data_table.ipynb>data table notebook</a>'\n",
              "          + ' to learn more about interactive tables.';\n",
              "        element.innerHTML = '';\n",
              "        dataTable['output_type'] = 'display_data';\n",
              "        await google.colab.output.renderOutput(dataTable, element);\n",
              "        const docLink = document.createElement('div');\n",
              "        docLink.innerHTML = docLinkHtml;\n",
              "        element.appendChild(docLink);\n",
              "      }\n",
              "    </script>\n",
              "  </div>\n",
              "\n",
              "\n",
              "    </div>\n",
              "  </div>\n"
            ],
            "application/vnd.google.colaboratory.intrinsic+json": {
              "type": "dataframe",
              "repr_error": "Out of range float values are not JSON compliant: nan"
            }
          },
          "metadata": {}
        },
        {
          "output_type": "stream",
          "name": "stdout",
          "text": [
            "Number of non-numeric prices: 68858\n"
          ]
        },
        {
          "output_type": "display_data",
          "data": {
            "text/plain": [
              "      product_price\n",
              "22              NaN\n",
              "34279        $6.86 \n",
              "34512        $2.76 \n",
              "34553        $6.95 \n",
              "35245        $4.35 \n",
              "36212       $19.27 \n",
              "36613       $21.67 \n",
              "36622        $7.22 \n",
              "36753        $9.63 \n",
              "36766        $7.82 \n",
              "36777       $11.92 \n",
              "37190       $12.04 \n",
              "37230        $8.42 \n",
              "37423        $9.75 \n",
              "37575        $9.23 \n",
              "37590        $5.41 \n",
              "39550        $1.61 \n",
              "39651        $3.31 \n",
              "40577        $3.43 \n",
              "40674        $3.60 "
            ],
            "text/html": [
              "\n",
              "  <div id=\"df-b34406aa-3689-40f7-b179-5b1d78f9d436\" class=\"colab-df-container\">\n",
              "    <div>\n",
              "<style scoped>\n",
              "    .dataframe tbody tr th:only-of-type {\n",
              "        vertical-align: middle;\n",
              "    }\n",
              "\n",
              "    .dataframe tbody tr th {\n",
              "        vertical-align: top;\n",
              "    }\n",
              "\n",
              "    .dataframe thead th {\n",
              "        text-align: right;\n",
              "    }\n",
              "</style>\n",
              "<table border=\"1\" class=\"dataframe\">\n",
              "  <thead>\n",
              "    <tr style=\"text-align: right;\">\n",
              "      <th></th>\n",
              "      <th>product_price</th>\n",
              "    </tr>\n",
              "  </thead>\n",
              "  <tbody>\n",
              "    <tr>\n",
              "      <th>22</th>\n",
              "      <td>NaN</td>\n",
              "    </tr>\n",
              "    <tr>\n",
              "      <th>34279</th>\n",
              "      <td>$6.86</td>\n",
              "    </tr>\n",
              "    <tr>\n",
              "      <th>34512</th>\n",
              "      <td>$2.76</td>\n",
              "    </tr>\n",
              "    <tr>\n",
              "      <th>34553</th>\n",
              "      <td>$6.95</td>\n",
              "    </tr>\n",
              "    <tr>\n",
              "      <th>35245</th>\n",
              "      <td>$4.35</td>\n",
              "    </tr>\n",
              "    <tr>\n",
              "      <th>36212</th>\n",
              "      <td>$19.27</td>\n",
              "    </tr>\n",
              "    <tr>\n",
              "      <th>36613</th>\n",
              "      <td>$21.67</td>\n",
              "    </tr>\n",
              "    <tr>\n",
              "      <th>36622</th>\n",
              "      <td>$7.22</td>\n",
              "    </tr>\n",
              "    <tr>\n",
              "      <th>36753</th>\n",
              "      <td>$9.63</td>\n",
              "    </tr>\n",
              "    <tr>\n",
              "      <th>36766</th>\n",
              "      <td>$7.82</td>\n",
              "    </tr>\n",
              "    <tr>\n",
              "      <th>36777</th>\n",
              "      <td>$11.92</td>\n",
              "    </tr>\n",
              "    <tr>\n",
              "      <th>37190</th>\n",
              "      <td>$12.04</td>\n",
              "    </tr>\n",
              "    <tr>\n",
              "      <th>37230</th>\n",
              "      <td>$8.42</td>\n",
              "    </tr>\n",
              "    <tr>\n",
              "      <th>37423</th>\n",
              "      <td>$9.75</td>\n",
              "    </tr>\n",
              "    <tr>\n",
              "      <th>37575</th>\n",
              "      <td>$9.23</td>\n",
              "    </tr>\n",
              "    <tr>\n",
              "      <th>37590</th>\n",
              "      <td>$5.41</td>\n",
              "    </tr>\n",
              "    <tr>\n",
              "      <th>39550</th>\n",
              "      <td>$1.61</td>\n",
              "    </tr>\n",
              "    <tr>\n",
              "      <th>39651</th>\n",
              "      <td>$3.31</td>\n",
              "    </tr>\n",
              "    <tr>\n",
              "      <th>40577</th>\n",
              "      <td>$3.43</td>\n",
              "    </tr>\n",
              "    <tr>\n",
              "      <th>40674</th>\n",
              "      <td>$3.60</td>\n",
              "    </tr>\n",
              "  </tbody>\n",
              "</table>\n",
              "</div>\n",
              "    <div class=\"colab-df-buttons\">\n",
              "\n",
              "  <div class=\"colab-df-container\">\n",
              "    <button class=\"colab-df-convert\" onclick=\"convertToInteractive('df-b34406aa-3689-40f7-b179-5b1d78f9d436')\"\n",
              "            title=\"Convert this dataframe to an interactive table.\"\n",
              "            style=\"display:none;\">\n",
              "\n",
              "  <svg xmlns=\"http://www.w3.org/2000/svg\" height=\"24px\" viewBox=\"0 -960 960 960\">\n",
              "    <path d=\"M120-120v-720h720v720H120Zm60-500h600v-160H180v160Zm220 220h160v-160H400v160Zm0 220h160v-160H400v160ZM180-400h160v-160H180v160Zm440 0h160v-160H620v160ZM180-180h160v-160H180v160Zm440 0h160v-160H620v160Z\"/>\n",
              "  </svg>\n",
              "    </button>\n",
              "\n",
              "  <style>\n",
              "    .colab-df-container {\n",
              "      display:flex;\n",
              "      gap: 12px;\n",
              "    }\n",
              "\n",
              "    .colab-df-convert {\n",
              "      background-color: #E8F0FE;\n",
              "      border: none;\n",
              "      border-radius: 50%;\n",
              "      cursor: pointer;\n",
              "      display: none;\n",
              "      fill: #1967D2;\n",
              "      height: 32px;\n",
              "      padding: 0 0 0 0;\n",
              "      width: 32px;\n",
              "    }\n",
              "\n",
              "    .colab-df-convert:hover {\n",
              "      background-color: #E2EBFA;\n",
              "      box-shadow: 0px 1px 2px rgba(60, 64, 67, 0.3), 0px 1px 3px 1px rgba(60, 64, 67, 0.15);\n",
              "      fill: #174EA6;\n",
              "    }\n",
              "\n",
              "    .colab-df-buttons div {\n",
              "      margin-bottom: 4px;\n",
              "    }\n",
              "\n",
              "    [theme=dark] .colab-df-convert {\n",
              "      background-color: #3B4455;\n",
              "      fill: #D2E3FC;\n",
              "    }\n",
              "\n",
              "    [theme=dark] .colab-df-convert:hover {\n",
              "      background-color: #434B5C;\n",
              "      box-shadow: 0px 1px 3px 1px rgba(0, 0, 0, 0.15);\n",
              "      filter: drop-shadow(0px 1px 2px rgba(0, 0, 0, 0.3));\n",
              "      fill: #FFFFFF;\n",
              "    }\n",
              "  </style>\n",
              "\n",
              "    <script>\n",
              "      const buttonEl =\n",
              "        document.querySelector('#df-b34406aa-3689-40f7-b179-5b1d78f9d436 button.colab-df-convert');\n",
              "      buttonEl.style.display =\n",
              "        google.colab.kernel.accessAllowed ? 'block' : 'none';\n",
              "\n",
              "      async function convertToInteractive(key) {\n",
              "        const element = document.querySelector('#df-b34406aa-3689-40f7-b179-5b1d78f9d436');\n",
              "        const dataTable =\n",
              "          await google.colab.kernel.invokeFunction('convertToInteractive',\n",
              "                                                    [key], {});\n",
              "        if (!dataTable) return;\n",
              "\n",
              "        const docLinkHtml = 'Like what you see? Visit the ' +\n",
              "          '<a target=\"_blank\" href=https://colab.research.google.com/notebooks/data_table.ipynb>data table notebook</a>'\n",
              "          + ' to learn more about interactive tables.';\n",
              "        element.innerHTML = '';\n",
              "        dataTable['output_type'] = 'display_data';\n",
              "        await google.colab.output.renderOutput(dataTable, element);\n",
              "        const docLink = document.createElement('div');\n",
              "        docLink.innerHTML = docLinkHtml;\n",
              "        element.appendChild(docLink);\n",
              "      }\n",
              "    </script>\n",
              "  </div>\n",
              "\n",
              "\n",
              "    <div id=\"df-0a5b99e0-7943-425a-9215-9e4d42c2f424\">\n",
              "      <button class=\"colab-df-quickchart\" onclick=\"quickchart('df-0a5b99e0-7943-425a-9215-9e4d42c2f424')\"\n",
              "                title=\"Suggest charts\"\n",
              "                style=\"display:none;\">\n",
              "\n",
              "<svg xmlns=\"http://www.w3.org/2000/svg\" height=\"24px\"viewBox=\"0 0 24 24\"\n",
              "     width=\"24px\">\n",
              "    <g>\n",
              "        <path d=\"M19 3H5c-1.1 0-2 .9-2 2v14c0 1.1.9 2 2 2h14c1.1 0 2-.9 2-2V5c0-1.1-.9-2-2-2zM9 17H7v-7h2v7zm4 0h-2V7h2v10zm4 0h-2v-4h2v4z\"/>\n",
              "    </g>\n",
              "</svg>\n",
              "      </button>\n",
              "\n",
              "<style>\n",
              "  .colab-df-quickchart {\n",
              "      --bg-color: #E8F0FE;\n",
              "      --fill-color: #1967D2;\n",
              "      --hover-bg-color: #E2EBFA;\n",
              "      --hover-fill-color: #174EA6;\n",
              "      --disabled-fill-color: #AAA;\n",
              "      --disabled-bg-color: #DDD;\n",
              "  }\n",
              "\n",
              "  [theme=dark] .colab-df-quickchart {\n",
              "      --bg-color: #3B4455;\n",
              "      --fill-color: #D2E3FC;\n",
              "      --hover-bg-color: #434B5C;\n",
              "      --hover-fill-color: #FFFFFF;\n",
              "      --disabled-bg-color: #3B4455;\n",
              "      --disabled-fill-color: #666;\n",
              "  }\n",
              "\n",
              "  .colab-df-quickchart {\n",
              "    background-color: var(--bg-color);\n",
              "    border: none;\n",
              "    border-radius: 50%;\n",
              "    cursor: pointer;\n",
              "    display: none;\n",
              "    fill: var(--fill-color);\n",
              "    height: 32px;\n",
              "    padding: 0;\n",
              "    width: 32px;\n",
              "  }\n",
              "\n",
              "  .colab-df-quickchart:hover {\n",
              "    background-color: var(--hover-bg-color);\n",
              "    box-shadow: 0 1px 2px rgba(60, 64, 67, 0.3), 0 1px 3px 1px rgba(60, 64, 67, 0.15);\n",
              "    fill: var(--button-hover-fill-color);\n",
              "  }\n",
              "\n",
              "  .colab-df-quickchart-complete:disabled,\n",
              "  .colab-df-quickchart-complete:disabled:hover {\n",
              "    background-color: var(--disabled-bg-color);\n",
              "    fill: var(--disabled-fill-color);\n",
              "    box-shadow: none;\n",
              "  }\n",
              "\n",
              "  .colab-df-spinner {\n",
              "    border: 2px solid var(--fill-color);\n",
              "    border-color: transparent;\n",
              "    border-bottom-color: var(--fill-color);\n",
              "    animation:\n",
              "      spin 1s steps(1) infinite;\n",
              "  }\n",
              "\n",
              "  @keyframes spin {\n",
              "    0% {\n",
              "      border-color: transparent;\n",
              "      border-bottom-color: var(--fill-color);\n",
              "      border-left-color: var(--fill-color);\n",
              "    }\n",
              "    20% {\n",
              "      border-color: transparent;\n",
              "      border-left-color: var(--fill-color);\n",
              "      border-top-color: var(--fill-color);\n",
              "    }\n",
              "    30% {\n",
              "      border-color: transparent;\n",
              "      border-left-color: var(--fill-color);\n",
              "      border-top-color: var(--fill-color);\n",
              "      border-right-color: var(--fill-color);\n",
              "    }\n",
              "    40% {\n",
              "      border-color: transparent;\n",
              "      border-right-color: var(--fill-color);\n",
              "      border-top-color: var(--fill-color);\n",
              "    }\n",
              "    60% {\n",
              "      border-color: transparent;\n",
              "      border-right-color: var(--fill-color);\n",
              "    }\n",
              "    80% {\n",
              "      border-color: transparent;\n",
              "      border-right-color: var(--fill-color);\n",
              "      border-bottom-color: var(--fill-color);\n",
              "    }\n",
              "    90% {\n",
              "      border-color: transparent;\n",
              "      border-bottom-color: var(--fill-color);\n",
              "    }\n",
              "  }\n",
              "</style>\n",
              "\n",
              "      <script>\n",
              "        async function quickchart(key) {\n",
              "          const quickchartButtonEl =\n",
              "            document.querySelector('#' + key + ' button');\n",
              "          quickchartButtonEl.disabled = true;  // To prevent multiple clicks.\n",
              "          quickchartButtonEl.classList.add('colab-df-spinner');\n",
              "          try {\n",
              "            const charts = await google.colab.kernel.invokeFunction(\n",
              "                'suggestCharts', [key], {});\n",
              "          } catch (error) {\n",
              "            console.error('Error during call to suggestCharts:', error);\n",
              "          }\n",
              "          quickchartButtonEl.classList.remove('colab-df-spinner');\n",
              "          quickchartButtonEl.classList.add('colab-df-quickchart-complete');\n",
              "        }\n",
              "        (() => {\n",
              "          let quickchartButtonEl =\n",
              "            document.querySelector('#df-0a5b99e0-7943-425a-9215-9e4d42c2f424 button');\n",
              "          quickchartButtonEl.style.display =\n",
              "            google.colab.kernel.accessAllowed ? 'block' : 'none';\n",
              "        })();\n",
              "      </script>\n",
              "    </div>\n",
              "\n",
              "    </div>\n",
              "  </div>\n"
            ],
            "application/vnd.google.colaboratory.intrinsic+json": {
              "type": "dataframe",
              "summary": "{\n  \"name\": \"display(invalid_prices[['product_price']]\",\n  \"rows\": 20,\n  \"fields\": [\n    {\n      \"column\": \"product_price\",\n      \"properties\": {\n        \"dtype\": \"string\",\n        \"num_unique_values\": 19,\n        \"samples\": [\n          \"$6.86 \",\n          \"$21.67 \",\n          \"$8.42 \"\n        ],\n        \"semantic_type\": \"\",\n        \"description\": \"\"\n      }\n    }\n  ]\n}"
            }
          },
          "metadata": {}
        }
      ]
    },
    {
      "cell_type": "markdown",
      "source": [
        "## Removing missing values\n",
        "\n",
        "We already analyzed missing data in the previous step.\n",
        "Now we eill simply drop all rows that contain missing values, and check the new shape and count missing values per column."
      ],
      "metadata": {
        "id": "qmxzgZqdpwHf"
      }
    },
    {
      "cell_type": "code",
      "source": [
        "# Drop all rows with missing values\n",
        "df = df.dropna()\n",
        "\n",
        "# Display new shape of the dataset\n",
        "print(\"New dataset shape:\", df.shape)\n",
        "\n",
        "# Count missing values per column\n",
        "print(\"Missing values per column:\")\n",
        "print(df.isna().sum())\n"
      ],
      "metadata": {
        "colab": {
          "base_uri": "https://localhost:8080/"
        },
        "id": "L6HNaAhRp2RS",
        "outputId": "a39e5ed4-b92c-4a79-d273-7d79fb8b882c"
      },
      "execution_count": 9,
      "outputs": [
        {
          "output_type": "stream",
          "name": "stdout",
          "text": [
            "New dataset shape: (165960, 6)\n",
            "Missing values per column:\n",
            "review_uuid      0\n",
            "product_name     0\n",
            "product_price    0\n",
            "review_title     0\n",
            "review_text      0\n",
            "sentiment        0\n",
            "dtype: int64\n"
          ]
        }
      ]
    },
    {
      "cell_type": "markdown",
      "source": [
        "## Parsing the `product_price` column\n",
        "\n",
        "We noticed that some prices are stored as numbers, while others contain a currency prefix like `\"$\"`.\n",
        "\n",
        "To make this column usable, we will:\n",
        "- Remove the `\"$\"` text and any extra characters,\n",
        "- Convert all values to numbers(`float`),\n",
        "- Drop invalid rows if conversion fails."
      ],
      "metadata": {
        "id": "fvsHHFRWtmCt"
      }
    },
    {
      "cell_type": "code",
      "source": [
        "# Step 1: Convert to string and remove the 'USD' prefix and any leading/trailing spaces\n",
        "df['product_price_cleaned'] = (\n",
        "    df['product_price']\n",
        "    .astype(str)\n",
        "    .str.replace(r'$', '', regex=True)   # Remove '$'\n",
        "    .str.replace(r'[^\\d.]', '', regex=True)  # Remove all non-numeric characters except the dot\n",
        "    .str.strip()\n",
        ")\n",
        "\n",
        "# Step 2: Convert cleaned string to float\n",
        "df['product_price'] = pd.to_numeric(df['product_price_cleaned'], errors='coerce')\n",
        "\n",
        "# Step 3: Drop the temporary column\n",
        "df = df.drop(columns=['product_price_cleaned'])\n",
        "\n",
        "# Step 4: Drop any rows where conversion failed (still NaN)\n",
        "df = df.dropna(subset=['product_price'])\n",
        "\n",
        "# Step 5: Confirm result\n",
        "print(\"Column type after parsing:\", df['product_price'].dtype)\n",
        "print(\"\\nPrice summary:\")\n",
        "print(df['product_price'].describe())\n",
        "\n"
      ],
      "metadata": {
        "colab": {
          "base_uri": "https://localhost:8080/"
        },
        "id": "0JfnMn91tmtf",
        "outputId": "2b4b837f-1156-4100-a59b-b42c201ae320"
      },
      "execution_count": 13,
      "outputs": [
        {
          "output_type": "stream",
          "name": "stdout",
          "text": [
            "Column type after parsing: float64\n",
            "\n",
            "Price summary:\n",
            "count    165960.000000\n",
            "mean         65.786896\n",
            "std         135.944167\n",
            "min           0.180000\n",
            "25%           4.190000\n",
            "50%          14.450000\n",
            "75%          66.250000\n",
            "max        1566.140000\n",
            "Name: product_price, dtype: float64\n"
          ]
        }
      ]
    },
    {
      "cell_type": "markdown",
      "source": [
        "## Standardizing the `sentiment` column\n",
        "\n",
        "The `sentiment` column should only contain `\"positive\"`, `\"negative\"` and `\"neutral\"` values.\n",
        "We will:\n",
        "- Convert all values to lowercase,\n",
        "- Convert column type to `\"category\"`,\n",
        "- Check results."
      ],
      "metadata": {
        "id": "1gbDgmvtybsE"
      }
    },
    {
      "cell_type": "code",
      "source": [
        "# Step 1: Convert all sentiment values to lowercase and strip extra spaces\n",
        "df['sentiment'] = df['sentiment'].astype(str).str.lower().str.strip()\n",
        "\n",
        "# Step 2: Show all unique values in the sentiment column\n",
        "print(\"Unique sentiment values after cleaning:\")\n",
        "print(df['sentiment'].value_counts())\n",
        "\n",
        "# Step 3: Convert column type to 'category'\n",
        "df['sentiment'] = df['sentiment'].astype('category')\n",
        "print(\"\\nSentiment column converted to type:\", df['sentiment'].dtype)"
      ],
      "metadata": {
        "colab": {
          "base_uri": "https://localhost:8080/"
        },
        "id": "uKzCCsADycJ0",
        "outputId": "94b5e65d-323d-4231-c45b-41e0989cb265"
      },
      "execution_count": 14,
      "outputs": [
        {
          "output_type": "stream",
          "name": "stdout",
          "text": [
            "Unique sentiment values after cleaning:\n",
            "sentiment\n",
            "positive    107619\n",
            "negative     44663\n",
            "neutral      13678\n",
            "Name: count, dtype: int64\n",
            "\n",
            "Sentiment column converted to type: category\n"
          ]
        }
      ]
    },
    {
      "cell_type": "markdown",
      "source": [
        "## Removing irrelevant columns\n",
        "\n",
        "We will now remove columns that are not useful for ,odel training:\n",
        "- `review_uuid` - just a uniques ID,\n",
        "- `product_name` - too specific and inconsistent.\n",
        "\n",
        "The key features we want to keeo are:\n",
        "- `review_title` - short description of the whole review,\n",
        "- `review_text` - the main input for sentiment prediction,\n",
        "- `product_price` - to be analyzed further,\n",
        "- `sentiment` - the target variable\n"
      ],
      "metadata": {
        "id": "Ixh78k2a4QrV"
      }
    },
    {
      "cell_type": "code",
      "source": [
        "# Drop columns that are not useful for modeling\n",
        "df = df.drop(columns=['review_uuid', 'product_name'])\n",
        "\n",
        "# Preview remaining columns\n",
        "print(\"Remaining columns:\")\n",
        "print(df.columns.tolist())"
      ],
      "metadata": {
        "colab": {
          "base_uri": "https://localhost:8080/"
        },
        "id": "yMFDgKel4ROz",
        "outputId": "efc29b3c-b609-4d6c-9ae8-4f1e592c0a1c"
      },
      "execution_count": 15,
      "outputs": [
        {
          "output_type": "stream",
          "name": "stdout",
          "text": [
            "Remaining columns:\n",
            "['product_price', 'review_title', 'review_text', 'sentiment']\n"
          ]
        }
      ]
    },
    {
      "cell_type": "markdown",
      "source": [
        "## Does product price affect sentiment?\n",
        "\n",
        "Let's explore whether the price of a product has any influence on the sentiment of reviews.\n",
        "\n",
        "We will:\n",
        "- Look at summary statistics of product prices per sentiment,\n",
        "- Visualize the price distribution grouped by sentiment."
      ],
      "metadata": {
        "id": "1xn_EL9t6xvJ"
      }
    },
    {
      "cell_type": "code",
      "source": [
        "import seaborn as sns\n",
        "import matplotlib.pyplot as plt\n",
        "\n",
        "# Show summary statistics grouped by sentiment\n",
        "print(\"Price summary by sentiment:\")\n",
        "print(df.groupby('sentiment', observed=False)['product_price'].describe())\n",
        "\n",
        "# Boxplot of prices by sentiment\n",
        "plt.figure(figsize=(10, 5))\n",
        "sns.boxplot(data=df, x='sentiment', y='product_price')\n",
        "plt.title(\"Product Price Distribution by Sentiment\")\n",
        "plt.xlabel(\"Sentiment\")\n",
        "plt.ylabel(\"Product Price\")\n",
        "plt.grid(True)\n",
        "plt.show()"
      ],
      "metadata": {
        "colab": {
          "base_uri": "https://localhost:8080/",
          "height": 591
        },
        "id": "33QZPBDC6ySP",
        "outputId": "297e549f-e969-4500-b6fd-20162546bffb"
      },
      "execution_count": 18,
      "outputs": [
        {
          "output_type": "stream",
          "name": "stdout",
          "text": [
            "Price summary by sentiment:\n",
            "              count       mean         std   min   25%    50%     75%      max\n",
            "sentiment                                                                     \n",
            "negative    44663.0  59.655028  112.306009  0.71  4.35  18.06  60.710  1566.14\n",
            "neutral     13678.0  55.532342  107.524238  0.71  3.30  10.23  59.845  1204.70\n",
            "positive   107619.0  69.635003  147.485845  0.18  4.20  14.08  66.250  1048.07\n"
          ]
        },
        {
          "output_type": "display_data",
          "data": {
            "text/plain": [
              "<Figure size 1000x500 with 1 Axes>"
            ],
            "image/png": "[encoded data removed]"
          },
          "metadata": {}
        }
      ]
    },
    {
      "cell_type": "markdown",
      "source": [
        "## Creating a new feature - review length\n",
        "\n",
        "We will now create a new numeric feature called `review_length` that represents the number of characters in each review.\n",
        "\n",
        "Then we'll visualize how review length varies across different sentiment categories.\n"
      ],
      "metadata": {
        "id": "1i8TxYfS-dlZ"
      }
    },
    {
      "cell_type": "code",
      "source": [
        "\n",
        "# Create new column with length of each review_text\n",
        "df['review_length'] = df['review_text'].astype(str).str.len()\n",
        "\n",
        "# Show basic stats\n",
        "print(\"Review length summary:\")\n",
        "print(df['review_length'].describe())\n",
        "\n",
        "# Group by sentiment and describe review length\n",
        "print(\"Review length statistics by sentiment:\")\n",
        "print(df.groupby('sentiment', observed=False)['review_length'].describe())\n",
        "\n",
        "# Visualize distribution of review length by sentiment\n",
        "plt.figure(figsize=(10, 5))\n",
        "sns.boxplot(data=df, x='sentiment', y='review_length')\n",
        "plt.title(\"Review Length by Sentiment\")\n",
        "plt.xlabel(\"Sentiment\")\n",
        "plt.ylabel(\"Review Length (number of caracters)\")\n",
        "plt.grid(True)\n",
        "plt.show()"
      ],
      "metadata": {
        "colab": {
          "base_uri": "https://localhost:8080/",
          "height": 765
        },
        "id": "WnSo8XBQ-eGF",
        "outputId": "0b6f7529-1c87-4e65-87bc-5f2ac1d2547c"
      },
      "execution_count": 23,
      "outputs": [
        {
          "output_type": "stream",
          "name": "stdout",
          "text": [
            "Review length summary:\n",
            "count    165960.000000\n",
            "mean         48.378435\n",
            "std          76.611087\n",
            "min           1.000000\n",
            "25%           9.000000\n",
            "50%          19.000000\n",
            "75%          50.000000\n",
            "max         523.000000\n",
            "Name: review_length, dtype: float64\n",
            "Review length statistics by sentiment:\n",
            "              count       mean        std  min   25%   50%   75%    max\n",
            "sentiment                                                              \n",
            "negative    44663.0  60.900701  78.376363  1.0  16.0  32.0  71.0  523.0\n",
            "neutral     13678.0  41.418190  64.707990  1.0   7.0  19.0  47.0  500.0\n",
            "positive   107619.0  44.066187  76.679684  1.0   8.0  15.0  41.0  497.0\n"
          ]
        },
        {
          "output_type": "display_data",
          "data": {
            "text/plain": [
              "<Figure size 1000x500 with 1 Axes>"
            ],
            "image/png": "[encoded data removed]"
          },
          "metadata": {}
        }
      ]
    }
  ]
}